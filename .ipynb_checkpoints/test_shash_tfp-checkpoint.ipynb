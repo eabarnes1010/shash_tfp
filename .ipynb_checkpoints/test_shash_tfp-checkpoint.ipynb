{
 "cells": [
  {
   "cell_type": "markdown",
   "id": "760771e9-788c-4d36-a2f9-dc353b2946a7",
   "metadata": {},
   "source": [
    "# A unit test notebook for the Shash class in shash_tfp.py"
   ]
  },
  {
   "cell_type": "code",
   "execution_count": 1,
   "id": "8262050a-6053-4656-92a9-dd516f3c280f",
   "metadata": {},
   "outputs": [],
   "source": [
    "%matplotlib inline\n",
    "\n",
    "import matplotlib.pyplot as plt\n",
    "import numpy as np\n",
    "import scipy\n",
    "import tensorflow as tf\n",
    "\n",
    "from shash_tfp import Shash\n",
    "\n",
    "__author__ = \"Randal J. Barnes and Elizabeth A. Barnes\"\n",
    "__date__ = \"07 April 2022\""
   ]
  },
  {
   "cell_type": "markdown",
   "id": "50e28a9b-33ec-4f2c-94ba-eb08c433c7e8",
   "metadata": {},
   "source": [
    "# Verify our understanding of the tfp formulation.\n",
    "\n",
    "We compute and plot the pdf defined by Tensorflow (i.e. using the tfp parameters and formulation) over a broad range. Then we compute and plot the pdf defined by Jones and Pewsey after converting the tfp parameters to the Jones and Pewsey parameters.  The two plots should be indistinguishable."
   ]
  },
  {
   "cell_type": "code",
   "execution_count": 2,
   "id": "c573cbd4-f884-4832-b4b3-bf41345cff7e",
   "metadata": {},
   "outputs": [
    {
     "name": "stderr",
     "output_type": "stream",
     "text": [
      "2022-05-27 14:05:16.508156: I tensorflow/core/platform/cpu_feature_guard.cc:151] This TensorFlow binary is optimized with oneAPI Deep Neural Network Library (oneDNN) to use the following CPU instructions in performance-critical operations:  AVX2 FMA\n",
      "To enable them in other operations, rebuild TensorFlow with the appropriate compiler flags.\n"
     ]
    },
    {
     "data": {
      "text/plain": [
       "[<matplotlib.lines.Line2D at 0x7ff226873460>,\n",
       " <matplotlib.lines.Line2D at 0x7ff2268732e0>]"
      ]
     },
     "execution_count": 2,
     "metadata": {},
     "output_type": "execute_result"
    },
    {
     "data": {
      "image/png": "[encoded data removed]",
      "text/plain": [
       "<Figure size 432x288 with 1 Axes>"
      ]
     },
     "metadata": {
      "needs_background": "light"
     },
     "output_type": "display_data"
    }
   ],
   "source": [
    "TWO_PI = 6.2831853071795864769252868\n",
    "\n",
    "loc = 1.0\n",
    "scale = 2.0\n",
    "skewness = 1.0\n",
    "tailweight = 1.1\n",
    "\n",
    "dist = Shash(loc=loc, scale=scale, skewness=skewness, tailweight=tailweight)\n",
    "\n",
    "lb = dist.quantile(0.0001)\n",
    "ub = dist.quantile(0.9999)\n",
    "x = tf.cast(tf.linspace(lb, ub, 10000), dtype=tf.float32)\n",
    "\n",
    "f = dist.prob(x)\n",
    "\n",
    "xi, eta, epsilon, delta = dist._convert_tfp_to_jones_and_pewsey()\n",
    "\n",
    "y = (x - xi) / eta\n",
    "Ssqr = tf.math.square(tf.math.sinh(delta * tf.math.asinh(y) - epsilon))\n",
    "ff = (\n",
    "    delta\n",
    "    / eta\n",
    "    * tf.math.sqrt((1.0 + Ssqr) / (TWO_PI * (1.0 + tf.math.square(y))))\n",
    "    * tf.math.exp(-Ssqr / 2.0)\n",
    ")\n",
    "\n",
    "plt.plot(x, f, \"-r\", x, ff, \"-b\")"
   ]
  },
  {
   "cell_type": "markdown",
   "id": "bcf7e2da-175f-4ba1-b7ca-e1297e255344",
   "metadata": {},
   "source": [
    "# Test Shash.mean (not available in tfp) by comparing to numerical integration.\n",
    "\n",
    "We consider the shash4, shash3, and shash2 cases separately."
   ]
  },
  {
   "cell_type": "markdown",
   "id": "f904adeb-2eac-49ea-b1b0-02e85f610cd7",
   "metadata": {},
   "source": [
    "## CASE: shash4"
   ]
  },
  {
   "cell_type": "code",
   "execution_count": 3,
   "id": "764aa160-3a41-4f77-9a2c-ae4e8ee73981",
   "metadata": {},
   "outputs": [
    {
     "name": "stdout",
     "output_type": "stream",
     "text": [
      "shash4: max mean |error| = 0.001456\n"
     ]
    }
   ],
   "source": [
    "NTEST = 100\n",
    "NN = 100000\n",
    "\n",
    "# CASE: Shash4\n",
    "loc = tf.random.uniform(shape=[NTEST, 1], minval=-1, maxval=1)\n",
    "scale = tf.random.uniform(shape=[NTEST, 1], minval=1, maxval=2)\n",
    "skewness = tf.random.uniform(shape=[NTEST, 1], minval=-1, maxval=1)\n",
    "tailweight = tf.random.uniform(shape=[NTEST, 1], minval=1, maxval=2)\n",
    "\n",
    "dist = Shash(loc=loc, scale=scale, skewness=skewness, tailweight=tailweight)\n",
    "\n",
    "lb = dist.quantile(0.00001 * tf.ones(shape=[NTEST, 1]))\n",
    "ub = dist.quantile(0.99999 * tf.ones(shape=[NTEST, 1]))\n",
    "xx = tf.linspace(lb, ub, NN)\n",
    "ff = dist.prob(xx)\n",
    "mean_numeric = tf.reduce_mean(xx * ff, axis=0) * (ub - lb)\n",
    "mean_analytic = dist.mean()\n",
    "\n",
    "error = mean_analytic - mean_numeric\n",
    "print(f\"shash4: max mean |error| = {tf.math.reduce_max(tf.math.abs(error)):.6f}\")"
   ]
  },
  {
   "cell_type": "markdown",
   "id": "d0a2e19f-45d0-453e-8020-65ba08f5f95a",
   "metadata": {},
   "source": [
    "## CASE: shash3"
   ]
  },
  {
   "cell_type": "code",
   "execution_count": 4,
   "id": "71e83431-f499-4e25-8d9f-863bfe55f8bf",
   "metadata": {},
   "outputs": [
    {
     "name": "stdout",
     "output_type": "stream",
     "text": [
      "shash3: max mean |error| = 0.000315\n"
     ]
    }
   ],
   "source": [
    "NTEST = 100\n",
    "NN = 100000\n",
    "\n",
    "loc = tf.random.uniform(shape=[NTEST, 1], minval=-1, maxval=1)\n",
    "scale = tf.random.uniform(shape=[NTEST, 1], minval=1, maxval=2)\n",
    "skewness = tf.random.uniform(shape=[NTEST, 1], minval=-1, maxval=1)\n",
    "\n",
    "dist = Shash(loc=loc, scale=scale, skewness=skewness)\n",
    "\n",
    "lb = dist.quantile(0.00001 * tf.ones(shape=[NTEST, 1]))\n",
    "ub = dist.quantile(0.99999 * tf.ones(shape=[NTEST, 1]))\n",
    "xx = tf.linspace(lb, ub, NN)\n",
    "ff = dist.prob(xx)\n",
    "mean_numeric = tf.reduce_mean(xx * ff, axis=0) * (ub - lb)\n",
    "mean_analytic = dist.mean()\n",
    "\n",
    "error = mean_analytic - mean_numeric\n",
    "print(f\"shash3: max mean |error| = {tf.math.reduce_max(tf.math.abs(error)):.6f}\")"
   ]
  },
  {
   "cell_type": "markdown",
   "id": "06d4429e-0a3c-4bd1-887b-aab5f521b671",
   "metadata": {},
   "source": [
    "## CASE: shash2"
   ]
  },
  {
   "cell_type": "code",
   "execution_count": 5,
   "id": "7578820d-276f-4833-aafb-626b8412a27a",
   "metadata": {},
   "outputs": [
    {
     "name": "stdout",
     "output_type": "stream",
     "text": [
      "shash2: max mean |error| = 0.000065\n"
     ]
    }
   ],
   "source": [
    "NTEST = 100\n",
    "NN = 100000\n",
    "\n",
    "loc = tf.random.uniform(shape=[NTEST, 1], minval=-1, maxval=1)\n",
    "scale = tf.random.uniform(shape=[NTEST, 1], minval=1, maxval=2)\n",
    "\n",
    "dist = Shash(loc=loc, scale=scale)\n",
    "\n",
    "lb = dist.quantile(0.00001 * tf.ones(shape=[NTEST, 1]))\n",
    "ub = dist.quantile(0.99999 * tf.ones(shape=[NTEST, 1]))\n",
    "xx = tf.linspace(lb, ub, NN)\n",
    "ff = dist.prob(xx)\n",
    "mean_numeric = tf.reduce_mean(xx * ff, axis=0) * (ub - lb)\n",
    "mean_analytic = dist.mean()\n",
    "\n",
    "error = mean_analytic - mean_numeric\n",
    "print(f\"shash2: max mean |error| = {tf.math.reduce_max(tf.math.abs(error)):.6f}\")"
   ]
  },
  {
   "cell_type": "markdown",
   "id": "1ab4997c-97d0-47d4-b3f4-23b389faea96",
   "metadata": {},
   "source": [
    "# Test Shash.median (not available in tfp) by comparing to the 50 percentile."
   ]
  },
  {
   "cell_type": "code",
   "execution_count": 6,
   "id": "ec418371-7f79-4eb5-8ce2-a9ec98cb1ca6",
   "metadata": {},
   "outputs": [
    {
     "name": "stdout",
     "output_type": "stream",
     "text": [
      "max median |error| = 0.000000\n"
     ]
    }
   ],
   "source": [
    "NTEST = 100\n",
    "\n",
    "loc = tf.random.uniform(shape=[NTEST, 1], minval=-1, maxval=1)\n",
    "scale = tf.random.uniform(shape=[NTEST, 1], minval=1, maxval=2)\n",
    "skewness = tf.random.uniform(shape=[NTEST, 1], minval=-1, maxval=1)\n",
    "tailweight = tf.random.uniform(shape=[NTEST, 1], minval=1, maxval=2)\n",
    "\n",
    "dist = Shash(loc=loc, scale=scale, skewness=skewness, tailweight=tailweight)\n",
    "\n",
    "median_quantile = dist.quantile(0.5)\n",
    "median_analytic = dist.median()\n",
    "\n",
    "error = median_analytic - median_quantile\n",
    "print(f\"max median |error| = {tf.math.reduce_max(tf.math.abs(error)):.6f}\")"
   ]
  },
  {
   "cell_type": "markdown",
   "id": "eb881b33-9bc5-4bfc-bb2c-4b0407ce3719",
   "metadata": {},
   "source": [
    "# Test Shash.variance (not available in tfp) by comparing to numerical integration."
   ]
  },
  {
   "cell_type": "code",
   "execution_count": 7,
   "id": "ee696ab4-a93d-4fb3-bfdc-e1568a85445c",
   "metadata": {},
   "outputs": [
    {
     "name": "stdout",
     "output_type": "stream",
     "text": [
      "max variance |error| = 0.089394\n"
     ]
    }
   ],
   "source": [
    "NTEST = 100\n",
    "NN = 100000\n",
    "\n",
    "loc = tf.random.uniform(shape=[NTEST, 1], minval=-1, maxval=1)\n",
    "scale = tf.random.uniform(shape=[NTEST, 1], minval=1, maxval=2)\n",
    "skewness = tf.random.uniform(shape=[NTEST, 1], minval=-1, maxval=1)\n",
    "tailweight = tf.random.uniform(shape=[NTEST, 1], minval=1, maxval=2)\n",
    "\n",
    "dist = Shash(loc=loc, scale=scale, skewness=skewness, tailweight=tailweight)\n",
    "\n",
    "lb = dist.quantile(0.00001 * tf.ones(shape=[NTEST, 1]))\n",
    "ub = dist.quantile(0.99999 * tf.ones(shape=[NTEST, 1]))\n",
    "xx = tf.linspace(lb, ub, NN)\n",
    "ff = dist.prob(xx)\n",
    "\n",
    "mu = tf.reduce_mean(xx * ff, axis=0) * (ub - lb)\n",
    "variance_numeric = tf.reduce_mean(tf.math.square(xx - mu) * ff, axis=0) * (ub - lb)\n",
    "variance_analytic = dist.variance()\n",
    "\n",
    "error = variance_analytic - variance_numeric\n",
    "print(f\"max variance |error| = {tf.math.reduce_max(tf.math.abs(error)):.6f}\")"
   ]
  },
  {
   "cell_type": "markdown",
   "id": "b231c56c-7b4b-49b6-a4b8-c83cb94d6e70",
   "metadata": {},
   "source": [
    "# Test Shash.skew (not available in tfp) by comparing to numerical integration."
   ]
  },
  {
   "cell_type": "code",
   "execution_count": 8,
   "id": "121923bd-24b4-4812-868a-87fd43a2ed30",
   "metadata": {},
   "outputs": [
    {
     "name": "stdout",
     "output_type": "stream",
     "text": [
      "max skewness |error| = 0.027999\n"
     ]
    }
   ],
   "source": [
    "NTEST = 100\n",
    "NN = 100000\n",
    "\n",
    "loc = tf.random.uniform(shape=[NTEST, 1], minval=-1, maxval=1)\n",
    "scale = tf.random.uniform(shape=[NTEST, 1], minval=1, maxval=2)\n",
    "skewness = tf.random.uniform(shape=[NTEST, 1], minval=-1, maxval=1)\n",
    "tailweight = tf.random.uniform(shape=[NTEST, 1], minval=1, maxval=2)\n",
    "\n",
    "dist = Shash(loc=loc, scale=scale, skewness=skewness, tailweight=tailweight)\n",
    "\n",
    "lb = dist.quantile(0.00001 * tf.ones(shape=[NTEST, 1]))\n",
    "ub = dist.quantile(0.99999 * tf.ones(shape=[NTEST, 1]))\n",
    "xx = tf.linspace(lb, ub, NN)\n",
    "ff = dist.prob(xx)\n",
    "\n",
    "mu = tf.reduce_mean(xx * ff, axis=0) * (ub - lb)\n",
    "sigma = tf.math.sqrt(tf.reduce_mean(tf.math.square(xx - mu) * ff, axis=0) * (ub - lb))\n",
    "skewness_numeric = (\n",
    "    tf.reduce_mean(tf.math.square(xx - mu) * (xx - mu) * ff, axis=0) * (ub - lb)\n",
    ") / (sigma * sigma * sigma)\n",
    "skewness_analytic = dist.skew()\n",
    "\n",
    "error = skewness_analytic - skewness_numeric\n",
    "print(f\"max skewness |error| = {tf.math.reduce_max(tf.math.abs(error)):.6f}\")"
   ]
  },
  {
   "cell_type": "markdown",
   "id": "c7100afd-46d4-4bfc-9493-cc30877ce36a",
   "metadata": {},
   "source": [
    "# Time the various methods."
   ]
  },
  {
   "cell_type": "code",
   "execution_count": 9,
   "id": "3bf001e6-1bd3-4d54-8310-3988d74bd0e8",
   "metadata": {},
   "outputs": [
    {
     "name": "stdout",
     "output_type": "stream",
     "text": [
      "122 ms ± 3.14 ms per loop (mean ± std. dev. of 7 runs, 10 loops each)\n",
      "214 µs ± 3.77 µs per loop (mean ± std. dev. of 7 runs, 1000 loops each)\n",
      "469 ms ± 6.65 ms per loop (mean ± std. dev. of 7 runs, 1 loop each)\n",
      "269 ms ± 33.7 ms per loop (mean ± std. dev. of 7 runs, 1 loop each)\n",
      "238 ms ± 5.48 ms per loop (mean ± std. dev. of 7 runs, 1 loop each)\n"
     ]
    }
   ],
   "source": [
    "NTEST = 100\n",
    "\n",
    "loc = tf.random.uniform(shape=[NTEST, 1], minval=-1, maxval=1)\n",
    "scale = tf.random.uniform(shape=[NTEST, 1], minval=1, maxval=2)\n",
    "skewness = tf.random.uniform(shape=[NTEST, 1], minval=-1, maxval=1)\n",
    "tailweight = tf.random.uniform(shape=[NTEST, 1], minval=1, maxval=2)\n",
    "\n",
    "dist = Shash(loc=loc, scale=scale, skewness=skewness, tailweight=tailweight)\n",
    "\n",
    "%timeit dist.mean()\n",
    "%timeit dist.median()\n",
    "%timeit dist.skew()\n",
    "%timeit dist.stddev()\n",
    "%timeit dist.variance()"
   ]
  },
  {
   "cell_type": "code",
   "execution_count": null,
   "id": "acc185f2-ad45-4208-ae5f-c8bb7e35b57b",
   "metadata": {},
   "outputs": [],
   "source": []
  }
 ],
 "metadata": {
  "kernelspec": {
   "display_name": "Python 3 (ipykernel)",
   "language": "python",
   "name": "python3"
  },
  "language_info": {
   "codemirror_mode": {
    "name": "ipython",
    "version": 3
   },
   "file_extension": ".py",
   "mimetype": "text/x-python",
   "name": "python",
   "nbconvert_exporter": "python",
   "pygments_lexer": "ipython3",
   "version": "3.9.7"
  }
 },
 "nbformat": 4,
 "nbformat_minor": 5
}
